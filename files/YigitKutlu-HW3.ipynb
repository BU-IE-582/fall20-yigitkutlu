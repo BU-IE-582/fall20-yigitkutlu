{
 "cells": [
  {
   "cell_type": "markdown",
   "metadata": {},
   "source": [
    "# IE 582 Statistical Learning for Data Mining - Homework 3"
   ]
  },
  {
   "cell_type": "code",
   "execution_count": 27,
   "metadata": {
    "scrolled": false
   },
   "outputs": [],
   "source": [
    "library(readr)\n",
    "library(dplyr)\n",
    "library(tidyverse)\n",
    "library(stringr)\n",
    "library(tidyr)\n",
    "library(reshape2)\n",
    "library(glmnet)\n",
    "\n",
    "#read the data\n",
    "\n",
    "data <- read.csv(file = 'RealTimeConsumption.csv', stringsAsFactors= FALSE)\n",
    "# 1st Nov 2020 to 1st Dec 2020 - 31 days = 744hrs so last 744 rows will be test data\n",
    "# data is messy has \",\" as 1000 seperator which messes up everything used gsub to remove \",\" from consumption and convert it to numeric\n",
    "data$Consumption..MWh. =  gsub(\",\", \"\",data$Consumption..MWh., fixed = TRUE)\n",
    "data$Consumption..MWh. = as.numeric(data$Consumption..MWh.)\n",
    "\n",
    "#problems due to daylight savings time shift etc., it is done on sundays, so we will remove the week accordingly. \n",
    "\n",
    "A <- which(data$Consumption..MWh. == 0, arr.ind=TRUE)  # find the day timechange accours\n",
    "data$Date <- as.Date(data$Date,\"%d.%m.%Y\")          #change Date column to \"Date\"\n",
    "high = data$Date[A]                             \n",
    "low = data$Date[A-(24*6)]\n",
    "data = filter(data,data$Date > high | data$Date < low)   #remove the week from the data....\n",
    "\n"
   ]
  },
  {
   "cell_type": "markdown",
   "metadata": {},
   "source": [
    "### Task1"
   ]
  },
  {
   "cell_type": "code",
   "execution_count": 28,
   "metadata": {
    "scrolled": true
   },
   "outputs": [
    {
     "name": "stdout",
     "output_type": "stream",
     "text": [
      "[1] \"MAPE for lag 48 is 8.06\"\n",
      "[1] \"MAPE for lag 168 is 3.449\"\n"
     ]
    },
    {
     "data": {
      "text/plain": [
       "    Min.  1st Qu.   Median     Mean  3rd Qu.     Max. \n",
       " 0.00955  1.64348  5.72972  8.06031 10.10699 43.77075 "
      ]
     },
     "metadata": {},
     "output_type": "display_data"
    },
    {
     "data": {
      "text/plain": [
       "     Min.   1st Qu.    Median      Mean   3rd Qu.      Max. \n",
       " 0.008521  1.335853  2.514032  3.449188  4.548818 19.565225 "
      ]
     },
     "metadata": {},
     "output_type": "display_data"
    }
   ],
   "source": [
    "len = nrow(data)\n",
    "data_test = data[(len-743):len, ]\n",
    "len_test = nrow(data_test)\n",
    "\n",
    "#get lag data for each day and hour for test period\n",
    "for (i in 1:len_test){\n",
    "    data_test$lag48[i] <- data[(len-(len_test-i+48)),3]\n",
    "                    }\n",
    "\n",
    "for (i in 1:len_test){\n",
    "    data_test$lag168[i] <- data[(len-(len_test-i+168)),3]\n",
    "                    }\n",
    "\n",
    "#calculate the prediction error\n",
    "for (i in 1:len_test){\n",
    "    data_test$error48[i] <- abs((data_test$Consumption..MWh.[i] - data_test$lag48[i])/data_test$Consumption..MWh.[i])*100\n",
    "\n",
    "                    } \n",
    "\n",
    "for (i in 1:len_test){\n",
    "    data_test$error168[i] <- abs((data_test$Consumption..MWh.[i] - data_test$lag168[i])/data_test$Consumption..MWh.[i])*100\n",
    "\n",
    "                    } \n",
    "\n",
    "#calculate the MAPE for each lag selections\n",
    "MAPE48 <- mean(data_test$error48)\n",
    "MAPE168 <- mean(data_test$error168)\n",
    "MAPE48 = signif(MAPE48, digits = 4)\n",
    "MAPE168=signif(MAPE168, digits = 4)\n",
    "\n",
    "A <-paste(\"MAPE for lag 48 is\", MAPE48)\n",
    "B <-paste(\"MAPE for lag 168 is\",MAPE168)\n",
    "print(A)\n",
    "print(B)\n",
    "\n",
    "\n",
    "# for the box plot part we may need MAPE's on hourly selections\n",
    "MAPE48hourly = c()\n",
    "MAPE168hourly =c()\n",
    "for (i in 0:23){\n",
    "    time = paste0(i,\":00\")\n",
    "    filtered = data_test %>% filter(Hour == time)\n",
    "    MAPE48hourly[(i+1)] = mean(filtered$error48)\n",
    "    MAPE168hourly[(i+1)] = mean(filtered$error168)\n",
    "}\n",
    "\n",
    "#the overall error data summary, maybe used in boxplot\n",
    "summary(data_test$error48)\n",
    "summary(data_test$error168)"
   ]
  },
  {
   "cell_type": "markdown",
   "metadata": {},
   "source": [
    "#####  Comments on Task 1\n",
    "We have better MAPE values for lag 168 than lag 48. Since the weekday / weekend  behaviour will change the consuption values, I expected to get better values for lag168. Consumptions will change between Thursday and Saturday. Same day last week is safer prediction than 2 days ago."
   ]
  },
  {
   "cell_type": "markdown",
   "metadata": {},
   "source": [
    "### Task2"
   ]
  },
  {
   "cell_type": "code",
   "execution_count": 29,
   "metadata": {
    "scrolled": true
   },
   "outputs": [
    {
     "data": {
      "text/html": [
       "<dl class=dl-horizontal>\n",
       "\t<dt>(Intercept)</dt>\n",
       "\t\t<dd>1570</dd>\n",
       "\t<dt>lag48</dt>\n",
       "\t\t<dd>0.3086</dd>\n",
       "\t<dt>lag168</dt>\n",
       "\t\t<dd>0.6434</dd>\n",
       "</dl>\n"
      ],
      "text/latex": [
       "\\begin{description*}\n",
       "\\item[(Intercept)] 1570\n",
       "\\item[lag48] 0.3086\n",
       "\\item[lag168] 0.6434\n",
       "\\end{description*}\n"
      ],
      "text/markdown": [
       "(Intercept)\n",
       ":   1570lag48\n",
       ":   0.3086lag168\n",
       ":   0.6434\n",
       "\n"
      ],
      "text/plain": [
       "(Intercept)       lag48      lag168 \n",
       "  1570.0000      0.3086      0.6434 "
      ]
     },
     "metadata": {},
     "output_type": "display_data"
    },
    {
     "name": "stdout",
     "output_type": "stream",
     "text": [
      "[1] \"MAPE for Linear Regression model using lag 48 and lag 168 is 4.23\"\n"
     ]
    },
    {
     "data": {
      "text/plain": [
       "     Min.   1st Qu.    Median      Mean   3rd Qu.      Max. \n",
       " 0.004324  1.826045  3.308445  4.229593  5.704970 16.611280 "
      ]
     },
     "metadata": {},
     "output_type": "display_data"
    }
   ],
   "source": [
    "data_train = data[(169:(len-744)), ]   #train data should not include first 168 hours of data becouse they dont have lag 168 values\n",
    "len_train = nrow(data_train)\n",
    "\n",
    "#get lag data for each day and hour for train period\n",
    "for (i in 1:len_train){\n",
    "    data_train$lag48[i] <- data[((i+168)-48),3]\n",
    "                    }\n",
    "\n",
    "for (i in 1:len_train){\n",
    "    data_train$lag168[i] <- data[i,3]\n",
    "                    }\n",
    "\n",
    "#linear model\n",
    "model <- lm(Consumption..MWh.~lag48+lag168,data_train)\n",
    "\n",
    "data_test$predict = predict.lm(model,data_test)\n",
    "\n",
    "#calculate the prediction error\n",
    "for (i in 1:len_test){\n",
    "    data_test$predicterror[i] <- abs((data_test$Consumption..MWh.[i] - data_test$predict[i])/data_test$Consumption..MWh.[i])*100\n",
    "                    }\n",
    "\n",
    "model$coefficients = signif(model$coefficients, digits = 4)\n",
    "model$coefficients  #print the coefficients and intercept\n",
    "\n",
    "#calculate the MAPE for linear\n",
    "MAPE_LM <- mean(data_test$predicterror)\n",
    "MAPE_LM = signif(MAPE_LM, digits = 4)\n",
    "A <-paste(\"MAPE for Linear Regression model using lag 48 and lag 168 is\",MAPE_LM)\n",
    "print(A)\n",
    "\n",
    "# for the box plot part we may need MAPE's on hourly selections\n",
    "MAPE_LMhourly =c()\n",
    "for (i in 0:23){\n",
    "    time = paste0(i,\":00\")\n",
    "    filtered = data_test %>% filter(Hour == time)\n",
    "    MAPE_LMhourly[(i+1)] = mean(filtered$predicterror)\n",
    "}\n",
    "\n",
    "#the overall error data summary, maybe used in boxplot\n",
    "summary(data_test$predicterror)"
   ]
  },
  {
   "cell_type": "markdown",
   "metadata": {
    "scrolled": true
   },
   "source": [
    "##### Comments on Task2\n",
    "We obtained \"1570\" as intercept value and coefficients for lag48 and lag 168 obtained as \"0.3086\" and \"0.6434\" repectively. The weight of lag168 data is almost the double of the lag48 as expected. We have obtained better results for lag168 prediction in previous section, so I was expecting to get higher coefficient for lag168. But the fact that using only lag168 values for prediction than the linear model using both lag48 and lag168 gives better MAPE value suprises me. On the other hand, we are forcing the model to include a higher error data so it seems normal. "
   ]
  },
  {
   "cell_type": "markdown",
   "metadata": {},
   "source": [
    "### Task3"
   ]
  },
  {
   "cell_type": "code",
   "execution_count": 30,
   "metadata": {
    "scrolled": false
   },
   "outputs": [
    {
     "name": "stdout",
     "output_type": "stream",
     "text": [
      "[1] \"Intercept of the Linear Model for hour 0 is 2208\"\n",
      "[1] \"Coefficient of lag48 for the Linear Model of hour 0 is 0.4871\"\n",
      "[1] \"Coefficient of lag168 for the Linear Model of hour 0 is 0.4421\"\n",
      "[1] \"Intercept of the Linear Model for hour 1 is 2137\"\n",
      "[1] \"Coefficient of lag48 for the Linear Model of hour 1 is 0.4922\"\n",
      "[1] \"Coefficient of lag168 for the Linear Model of hour 1 is 0.4356\"\n",
      "[1] \"Intercept of the Linear Model for hour 2 is 2212\"\n",
      "[1] \"Coefficient of lag48 for the Linear Model of hour 2 is 0.4972\"\n",
      "[1] \"Coefficient of lag168 for the Linear Model of hour 2 is 0.4252\"\n",
      "[1] \"Intercept of the Linear Model for hour 3 is 2243\"\n",
      "[1] \"Coefficient of lag48 for the Linear Model of hour 3 is 0.4928\"\n",
      "[1] \"Coefficient of lag168 for the Linear Model of hour 3 is 0.4265\"\n",
      "[1] \"Intercept of the Linear Model for hour 4 is 2214\"\n",
      "[1] \"Coefficient of lag48 for the Linear Model of hour 4 is 0.4747\"\n",
      "[1] \"Coefficient of lag168 for the Linear Model of hour 4 is 0.4446\"\n",
      "[1] \"Intercept of the Linear Model for hour 5 is 2235\"\n",
      "[1] \"Coefficient of lag48 for the Linear Model of hour 5 is 0.4397\"\n",
      "[1] \"Coefficient of lag168 for the Linear Model of hour 5 is 0.4782\"\n",
      "[1] \"Intercept of the Linear Model for hour 6 is 2139\"\n",
      "[1] \"Coefficient of lag48 for the Linear Model of hour 6 is 0.3758\"\n",
      "[1] \"Coefficient of lag168 for the Linear Model of hour 6 is 0.546\"\n",
      "[1] \"Intercept of the Linear Model for hour 7 is 2319\"\n",
      "[1] \"Coefficient of lag48 for the Linear Model of hour 7 is 0.2668\"\n",
      "[1] \"Coefficient of lag168 for the Linear Model of hour 7 is 0.6521\"\n",
      "[1] \"Intercept of the Linear Model for hour 8 is 3241\"\n",
      "[1] \"Coefficient of lag48 for the Linear Model of hour 8 is 0.1741\"\n",
      "[1] \"Coefficient of lag168 for the Linear Model of hour 8 is 0.7249\"\n",
      "[1] \"Intercept of the Linear Model for hour 9 is 3603\"\n",
      "[1] \"Coefficient of lag48 for the Linear Model of hour 9 is 0.1747\"\n",
      "[1] \"Coefficient of lag168 for the Linear Model of hour 9 is 0.7201\"\n",
      "[1] \"Intercept of the Linear Model for hour 10 is 3747\"\n",
      "[1] \"Coefficient of lag48 for the Linear Model of hour 10 is 0.2066\"\n",
      "[1] \"Coefficient of lag168 for the Linear Model of hour 10 is 0.6864\"\n",
      "[1] \"Intercept of the Linear Model for hour 11 is 3966\"\n",
      "[1] \"Coefficient of lag48 for the Linear Model of hour 11 is 0.2252\"\n",
      "[1] \"Coefficient of lag168 for the Linear Model of hour 11 is 0.6632\"\n",
      "[1] \"Intercept of the Linear Model for hour 12 is 3671\"\n",
      "[1] \"Coefficient of lag48 for the Linear Model of hour 12 is 0.2802\"\n",
      "[1] \"Coefficient of lag168 for the Linear Model of hour 12 is 0.6129\"\n",
      "[1] \"Intercept of the Linear Model for hour 13 is 3815\"\n",
      "[1] \"Coefficient of lag48 for the Linear Model of hour 13 is 0.3037\"\n",
      "[1] \"Coefficient of lag168 for the Linear Model of hour 13 is 0.5864\"\n",
      "[1] \"Intercept of the Linear Model for hour 14 is 4078\"\n",
      "[1] \"Coefficient of lag48 for the Linear Model of hour 14 is 0.2598\"\n",
      "[1] \"Coefficient of lag168 for the Linear Model of hour 14 is 0.6252\"\n",
      "[1] \"Intercept of the Linear Model for hour 15 is 3963\"\n",
      "[1] \"Coefficient of lag48 for the Linear Model of hour 15 is 0.2565\"\n",
      "[1] \"Coefficient of lag168 for the Linear Model of hour 15 is 0.6315\"\n",
      "[1] \"Intercept of the Linear Model for hour 16 is 3830\"\n",
      "[1] \"Coefficient of lag48 for the Linear Model of hour 16 is 0.2473\"\n",
      "[1] \"Coefficient of lag168 for the Linear Model of hour 16 is 0.6451\"\n",
      "[1] \"Intercept of the Linear Model for hour 17 is 3408\"\n",
      "[1] \"Coefficient of lag48 for the Linear Model of hour 17 is 0.2625\"\n",
      "[1] \"Coefficient of lag168 for the Linear Model of hour 17 is 0.6422\"\n",
      "[1] \"Intercept of the Linear Model for hour 18 is 3036\"\n",
      "[1] \"Coefficient of lag48 for the Linear Model of hour 18 is 0.3351\"\n",
      "[1] \"Coefficient of lag168 for the Linear Model of hour 18 is 0.5801\"\n",
      "[1] \"Intercept of the Linear Model for hour 19 is 3177\"\n",
      "[1] \"Coefficient of lag48 for the Linear Model of hour 19 is 0.3872\"\n",
      "[1] \"Coefficient of lag168 for the Linear Model of hour 19 is 0.5244\"\n",
      "[1] \"Intercept of the Linear Model for hour 20 is 2797\"\n",
      "[1] \"Coefficient of lag48 for the Linear Model of hour 20 is 0.4076\"\n",
      "[1] \"Coefficient of lag168 for the Linear Model of hour 20 is 0.5144\"\n",
      "[1] \"Intercept of the Linear Model for hour 21 is 2674\"\n",
      "[1] \"Coefficient of lag48 for the Linear Model of hour 21 is 0.4285\"\n",
      "[1] \"Coefficient of lag168 for the Linear Model of hour 21 is 0.4955\"\n",
      "[1] \"Intercept of the Linear Model for hour 22 is 2839\"\n",
      "[1] \"Coefficient of lag48 for the Linear Model of hour 22 is 0.442\"\n",
      "[1] \"Coefficient of lag168 for the Linear Model of hour 22 is 0.4757\"\n",
      "[1] \"Intercept of the Linear Model for hour 23 is 2556\"\n",
      "[1] \"Coefficient of lag48 for the Linear Model of hour 23 is 0.4505\"\n",
      "[1] \"Coefficient of lag168 for the Linear Model of hour 23 is 0.4722\"\n",
      "[1] \"MAPE of hour 0 for using Linear Model is  3.264\"\n",
      "[1] \"MAPE of hour 1 for using Linear Model is  3.285\"\n",
      "[1] \"MAPE of hour 2 for using Linear Model is  3.42\"\n",
      "[1] \"MAPE of hour 3 for using Linear Model is  3.202\"\n",
      "[1] \"MAPE of hour 4 for using Linear Model is  3.184\"\n",
      "[1] \"MAPE of hour 5 for using Linear Model is  3.19\"\n",
      "[1] \"MAPE of hour 6 for using Linear Model is  3.146\"\n",
      "[1] \"MAPE of hour 7 for using Linear Model is  3.776\"\n",
      "[1] \"MAPE of hour 8 for using Linear Model is  4.678\"\n",
      "[1] \"MAPE of hour 9 for using Linear Model is  5.489\"\n",
      "[1] \"MAPE of hour 10 for using Linear Model is  6.089\"\n",
      "[1] \"MAPE of hour 11 for using Linear Model is  6.276\"\n",
      "[1] \"MAPE of hour 12 for using Linear Model is  6.545\"\n",
      "[1] \"MAPE of hour 13 for using Linear Model is  6.686\"\n",
      "[1] \"MAPE of hour 14 for using Linear Model is  6.483\"\n",
      "[1] \"MAPE of hour 15 for using Linear Model is  6.085\"\n",
      "[1] \"MAPE of hour 16 for using Linear Model is  5.148\"\n",
      "[1] \"MAPE of hour 17 for using Linear Model is  4.613\"\n",
      "[1] \"MAPE of hour 18 for using Linear Model is  3.744\"\n",
      "[1] \"MAPE of hour 19 for using Linear Model is  3.435\"\n",
      "[1] \"MAPE of hour 20 for using Linear Model is  3.164\"\n",
      "[1] \"MAPE of hour 21 for using Linear Model is  3.169\"\n",
      "[1] \"MAPE of hour 22 for using Linear Model is  3.166\"\n",
      "[1] \"MAPE of hour 23 for using Linear Model is  3.385\"\n",
      "[1] \"Overall mean MAPE value for using Linear Model is  4.359\"\n"
     ]
    },
    {
     "data": {
      "text/plain": [
       "   Min. 1st Qu.  Median    Mean 3rd Qu.    Max. \n",
       " 0.0625  2.1872  3.7350  4.3593  5.9177 16.5750 "
      ]
     },
     "metadata": {},
     "output_type": "display_data"
    }
   ],
   "source": [
    "# for hourly based analysis \"for\" loop is used. Needed matrixes defined beforehand.\n",
    "daily_pred = matrix(0,31,24)\n",
    "lm_error = matrix(0,31,24)\n",
    "MAPE_hr_lm = c()\n",
    "coefs = c()\n",
    "for (i in 1:24){\n",
    "    k = (i-1)\n",
    "    time = paste0(k,\":00\")\n",
    "    filtered = data_train %>% filter(Hour == time)\n",
    "    filtered_test = data_test %>% filter(Hour == time)\n",
    "    model <- lm(Consumption..MWh.~lag48+lag168,filtered)\n",
    "    # I wanted to report the coefficients & intercept value for the each model but it is long!\n",
    "    model$coefficients <- signif(model$coefficients, digits = 4)\n",
    "    int <-paste(\"Intercept of the Linear Model for hour\", (i-1), \"is\", model$coefficients[1])\n",
    "    coef1 <-paste(\"Coefficient of lag48 for the Linear Model of hour\", (i-1), \"is\", model$coefficients[2])\n",
    "    coef2 <-paste(\"Coefficient of lag168 for the Linear Model of hour\", (i-1), \"is\", model$coefficients[3])\n",
    "    print(int)\n",
    "    print(coef1)\n",
    "    print(coef2)\n",
    "    lm_predict = predict.lm(model,filtered_test)\n",
    "    lm_predict = data.frame(lm_predict)\n",
    "    n = nrow(lm_predict)\n",
    "    # we need the predicted values, I keep them in a new matrix, easy to calculate error\n",
    "    for (j in 1:n){\n",
    "        daily_pred[j,i] = lm_predict[j,1]\n",
    "        lm_error[j,i] = abs((filtered_test$Consumption..MWh.[j]-daily_pred[j,i])/filtered_test$Consumption..MWh.[j])*100\n",
    "    }\n",
    "    # I could calculate MAPE for each hourly model...\n",
    "    MAPE_hr_lm[i] = mean(lm_error[,i])\n",
    "    \n",
    "}\n",
    "\n",
    "MAPE_hr_lm = signif(MAPE_hr_lm, digits = 4)\n",
    "\n",
    "for (i in 1:24){\n",
    "    B <-paste(\"For Linear Model of hour\", (i-1), \"intercept \",MAPE_hr_lm[i])\n",
    "    A <-paste(\"MAPE of hour\", (i-1), \"for using Linear Model is \",MAPE_hr_lm[i])\n",
    "    print(A)\n",
    "    }\n",
    "\n",
    "MAPE_hr_lm_mean <- mean(MAPE_hr_lm)\n",
    "MAPE_hr_lm_mean = signif(MAPE_hr_lm_mean, digits = 4)\n",
    "\n",
    "A <-paste(\"Overall mean MAPE value for using Linear Model is \",MAPE_hr_lm_mean)\n",
    "print(A)\n",
    "\n",
    "#obtaining the overall error data for each hour & day to give summary and use in boxplot? \n",
    "lm_error_ovr <- melt(lm_error)\n",
    "colnames(lm_error_ovr) <- c(\"Hour\",\"Day\",\"Error\")\n",
    "summary(lm_error_ovr$Error)\n"
   ]
  },
  {
   "cell_type": "markdown",
   "metadata": {},
   "source": [
    "##### Comments on Task3\n",
    "First of all I wanted to include the coeeficients for each model but it is a bit long so I am sorry for that. What I observed is that, during the daylight hours weight of the lag48 and lag168 differs wheras, during night time they are close to each other. So, that may mean that night time consumptions does not have weakly seasonalities (importance of data from 2 days ago and 7 days ago is almost equal) but for the daylight time consumption last weeks data have more importance. On the other hand, I observed a higher MAPE values (worse predictions) for the daylight hours than the nightime hours. I would sugggest using the 7 days ago same hour and 14 days ago same hour data for daylight hours especially. Also using last weeks same day last month's same day data and last year's same day data can be beneficial. (Last month may not work due to months having different day counts!?)  Our mean MAPE value for using hourly linear models is worse than the overall linear model which I did not expect."
   ]
  },
  {
   "cell_type": "markdown",
   "metadata": {},
   "source": [
    "### Task4"
   ]
  },
  {
   "cell_type": "code",
   "execution_count": 31,
   "metadata": {
    "scrolled": false
   },
   "outputs": [
    {
     "name": "stdout",
     "output_type": "stream",
     "text": [
      "[1] \"MAPE of hour 0 for using Lasso Model is  1.436\"\n",
      "[1] \"MAPE of hour 1 for using Lasso Model is  1.552\"\n",
      "[1] \"MAPE of hour 2 for using Lasso Model is  4.11\"\n",
      "[1] \"MAPE of hour 3 for using Lasso Model is  4.366\"\n",
      "[1] \"MAPE of hour 4 for using Lasso Model is  4.666\"\n",
      "[1] \"MAPE of hour 5 for using Lasso Model is  4.533\"\n",
      "[1] \"MAPE of hour 6 for using Lasso Model is  4.336\"\n",
      "[1] \"MAPE of hour 7 for using Lasso Model is  3.828\"\n",
      "[1] \"MAPE of hour 8 for using Lasso Model is  2.935\"\n",
      "[1] \"MAPE of hour 9 for using Lasso Model is  2.038\"\n",
      "[1] \"MAPE of hour 10 for using Lasso Model is  1.681\"\n",
      "[1] \"MAPE of hour 11 for using Lasso Model is  1.587\"\n",
      "[1] \"MAPE of hour 12 for using Lasso Model is  1.497\"\n",
      "[1] \"MAPE of hour 13 for using Lasso Model is  1.621\"\n",
      "[1] \"MAPE of hour 14 for using Lasso Model is  1.713\"\n",
      "[1] \"MAPE of hour 15 for using Lasso Model is  1.562\"\n",
      "[1] \"MAPE of hour 16 for using Lasso Model is  1.83\"\n",
      "[1] \"MAPE of hour 17 for using Lasso Model is  1.412\"\n",
      "[1] \"MAPE of hour 18 for using Lasso Model is  1.506\"\n",
      "[1] \"MAPE of hour 19 for using Lasso Model is  1.43\"\n",
      "[1] \"MAPE of hour 20 for using Lasso Model is  1.747\"\n",
      "[1] \"MAPE of hour 21 for using Lasso Model is  1.839\"\n",
      "[1] \"MAPE of hour 22 for using Lasso Model is  2.583\"\n",
      "[1] \"MAPE of hour 23 for using Lasso Model is  3.626\"\n",
      "[1] \"Overall mean MAPE value for using Lasso Model is  2.476\"\n"
     ]
    },
    {
     "data": {
      "text/plain": [
       "     Min.   1st Qu.    Median      Mean   3rd Qu.      Max. \n",
       " 0.004159  0.787189  1.699064  2.476421  3.258726 12.977982 "
      ]
     },
     "metadata": {},
     "output_type": "display_data"
    }
   ],
   "source": [
    "data_train2 = data_train # I did not want to change the data that much but it seems unneccesery now - maybe not?\n",
    "\n",
    "# Converting the long data to wide data...\n",
    "# I will use a \"for\" loop again for that instead of creating 24 different matrixes for consumption I added them to wide data\n",
    "Lag_48hourly = dcast(data_train2, Date ~ Hour, sum, value.var = \"lag48\" )\n",
    "colnames(Lag_48hourly) <- c(\"Date\",paste0(\"Lag48_hour_\", 0:23))\n",
    "Lag_168hourly = dcast(data_train2, Date ~ Hour, sum, value.var = \"lag168\" )\n",
    "colnames(Lag_168hourly) <- c(\"Date\",paste0(\"Lag168_hour_\", 0:23))\n",
    "Consump_hourly = dcast(data_train2, Date ~ Hour, sum, value.var = \"Consumption..MWh.\" )\n",
    "colnames(Consump_hourly) <- c(\"Date\",paste0(\"Consump_hour_\", 0:23))\n",
    "\n",
    "new_train <- cbind(Lag_48hourly, Lag_168hourly[,2:25], Consump_hourly[,2:25])\n",
    "\n",
    "#same process for the test period\n",
    "data_test2 = data_test\n",
    "Lag_48hourly_test = dcast(data_test2, Date ~ Hour, sum, value.var = \"lag48\" )\n",
    "colnames(Lag_48hourly_test) <- c(\"Date\",paste0(\"Lag48_hour_\", 0:23))\n",
    "Lag_168hourly_test = dcast(data_test2, Date ~ Hour, sum, value.var = \"lag168\" )\n",
    "colnames(Lag_168hourly_test) <- c(\"Date\",paste0(\"Lag168_hour_\", 0:23))\n",
    "Consump_hourly_test = dcast(data_test2, Date ~ Hour, sum, value.var = \"Consumption..MWh.\" )\n",
    "colnames(Consump_hourly_test) <- c(\"Date\",paste0(\"Consump_hour_\", 0:23))\n",
    "\n",
    "new_test <- cbind(Lag_48hourly_test, Lag_168hourly_test[,2:25], Consump_hourly_test[,2:25])\n",
    "\n",
    "#lasso prediction in \"for\" loop for each hour, defined the matrixes needed first used \"best(min) lambda\" for prediction\n",
    "x =  as.matrix(new_train[,2:49])\n",
    "x_test =  as.matrix(new_test[,2:49])\n",
    "lasso = c()\n",
    "lasso_pred = matrix(0,31,24)\n",
    "error_lasso = matrix(0,31,24)\n",
    "mape_lasso = c()\n",
    "for (i in 1:24){\n",
    "    set.seed(636) # it is used to get same lambda values for each time we run the code.\n",
    "    y = new_train[,49+i]\n",
    "    y_test = new_test[,49+i]\n",
    "    y = as.matrix(y)\n",
    "    lasso_model = cv.glmnet(x, y, type.measure=\"mse\", family=\"gaussian\", nfolds = 10)\n",
    "    lambda_best = lasso_model$lambda.min\n",
    "    lasso_best = glmnet(x, y, alpha =1, lambda = lambda_best)\n",
    "    lasso = predict(lasso_best,  s=lambda_best, newx = x_test)\n",
    "    len_test =nrow(x_test)\n",
    "    #again need the predictions so I keep them in a new matrix \n",
    "    for (j in 1:len_test){\n",
    "        lasso_pred[j,i] = lasso[j,1]\n",
    "        error_lasso[j,i] = abs((y_test[j]-lasso_pred[j,i])/y_test[j])*100\n",
    "    }\n",
    "    mape_lasso[i] = mean(error_lasso[,i])\n",
    "    \n",
    "}\n",
    "\n",
    "mape_lasso = signif(mape_lasso, digits = 4)\n",
    "for (i in 1:24){\n",
    "    A <-paste(\"MAPE of hour\", (i-1), \"for using Lasso Model is \",mape_lasso[i])\n",
    "    print(A)\n",
    "    }\n",
    "\n",
    "mape_lasso_mean <- mean(mape_lasso)\n",
    "mape_lasso_mean = signif(mape_lasso_mean, digits = 4)\n",
    "A <-paste(\"Overall mean MAPE value for using Lasso Model is \",mape_lasso_mean)\n",
    "print(A)\n",
    "\n",
    "#obtaining the overall error data for each hour & day to give summary and use in boxplot? \n",
    "lasso_error_ovr <- melt(error_lasso)\n",
    "colnames(lasso_error_ovr) <- c(\"Hour\",\"Day\",\"Error\")\n",
    "summary(lasso_error_ovr$Error)"
   ]
  },
  {
   "cell_type": "markdown",
   "metadata": {},
   "source": [
    "##### Comments on Task 4\n",
    "\n",
    "When we use Lasso Model with minimum lambda, we obtained better MAPE values for many hours. For the time period 3 to 7 our linear model gives slightly better results. But overall, using Lasso Model decreases prediction errors. In the Lasso prediction we used 48 variables, instead of 2 (used in linear model), so it may have effect on results. I dont know if it is possible to use same 48 variables for linear model, but for comperasion it would be better."
   ]
  },
  {
   "cell_type": "markdown",
   "metadata": {},
   "source": [
    "### Task 6"
   ]
  },
  {
   "cell_type": "code",
   "execution_count": 32,
   "metadata": {},
   "outputs": [],
   "source": [
    "#For the boxplot part I plotted the MAPEs converted the lag48 lag168 and linear model to hourly MAPEs\n",
    "#In order to plot them together with hourly based model. \n",
    "#I think we should plot the errors as box plot which will give us means etc. So I ploted 2 boxplots, hourly MAPEs and errors\n",
    "\n",
    "MAPES_hourly <- cbind (MAPE48hourly, MAPE168hourly, MAPE_LMhourly, MAPE_hr_lm, mape_lasso)\n",
    "colnames(MAPES_hourly) <- c(\"Lag48\",\"Lag168\",\"Linear\" , \"Hourly Linear\" , \"Lasso\")\n",
    "OVR_Error <- cbind(data_test$error48, data_test$error168, data_test$predicterror, lm_error_ovr$Error, lasso_error_ovr$Error)\n",
    "colnames(OVR_Error) <- c(\"Lag48\",\"Lag168\",\"Linear\" , \"Hourly Linear\" , \"Lasso\")"
   ]
  },
  {
   "cell_type": "code",
   "execution_count": 33,
   "metadata": {},
   "outputs": [
    {
     "data": {
      "image/png": "[encoded data removed]",
      "text/plain": [
       "Plot with title \"Hourly MAPEs\""
      ]
     },
     "metadata": {},
     "output_type": "display_data"
    },
    {
     "data": {
      "image/png": "[encoded data removed]",
      "text/plain": [
       "Plot with title \"Individual Errors for Each Model\""
      ]
     },
     "metadata": {},
     "output_type": "display_data"
    }
   ],
   "source": [
    "boxplot(MAPES_hourly, main= \"Hourly MAPEs\", ylab = \"MAPE\")\n",
    "boxplot(OVR_Error, main= \"Individual Errors for Each Model\", ylab = \"Error\")"
   ]
  },
  {
   "cell_type": "markdown",
   "metadata": {},
   "source": [
    "###### Comments on Task6\n",
    "I did not quite understand if I should plot the errors or MAPE values. In order to plot the MAPE value I converted all models to hourly MAPEs to obtain uniformity. Observing each prediction's error is also nice so I plotted the second figure too. We observe lots of outliers in each model but all in all each model has MAPE value smaller than 10. Overall, Lasso prediction gives the lowest MAPE value which is a more complicated model than the others and it is expected to obtain better results in the Lasso Model. Our worse model is Lag48 data which only predicts the two days ago same hour consumption data as prediction and it is not a good vay (especially due to weekend/weekday difference). "
   ]
  },
  {
   "cell_type": "code",
   "execution_count": null,
   "metadata": {},
   "outputs": [],
   "source": []
  }
 ],
 "metadata": {
  "kernelspec": {
   "display_name": "R",
   "language": "R",
   "name": "ir"
  },
  "language_info": {
   "codemirror_mode": "r",
   "file_extension": ".r",
   "mimetype": "text/x-r-source",
   "name": "R",
   "pygments_lexer": "r",
   "version": "3.6.1"
  }
 },
 "nbformat": 4,
 "nbformat_minor": 4
}
